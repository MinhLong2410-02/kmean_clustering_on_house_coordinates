{
 "cells": [
  {
   "cell_type": "code",
   "execution_count": 10,
   "id": "c2dfc530-e1a5-4465-9681-4b148e153ee4",
   "metadata": {},
   "outputs": [],
   "source": [
    "from webdriver_manager.chrome import ChromeDriverManager\n",
    "from selenium import webdriver\n",
    "from selenium.webdriver.common.by import By\n",
    "from selenium.webdriver.common.keys import Keys\n",
    "import requests as req\n",
    "from selenium.webdriver.chrome.service import Service as ChromeService\n",
    "from selenium.webdriver.chrome.options import Options\n",
    "from time import sleep\n",
    "def handlePopups():\n",
    "    option = Options()\n",
    "    option.add_argument(\"disable-notifications\")\n",
    "    # option.add_argument(\"headless\")\n",
    "    return option"
   ]
  },
  {
   "cell_type": "code",
   "execution_count": 11,
   "id": "9966e5c7-0a58-434d-a185-7606cd2e053e",
   "metadata": {},
   "outputs": [],
   "source": [
    "def read_file(path_to_file):\n",
    "    f = open(path_to_file, 'r', encoding='utf-8')\n",
    "    urls = list(map(lambda x:x.strip(), f.readlines()))\n",
    "    f.close()\n",
    "\n",
    "    \n",
    "    return urls\n",
    "def get_lat_long(text):\n",
    "    a = text.split('@')[-1].split(',')\n",
    "    return a[0], a[1]\n"
   ]
  },
  {
   "cell_type": "code",
   "execution_count": 12,
   "id": "ad110f43-a5fe-4f62-ad35-c00898057520",
   "metadata": {},
   "outputs": [],
   "source": [
    "gg_map = 'https://www.google.com/maps/'\n",
    "data = {\n",
    "    'Address': [],\n",
    "    'Latitude': [],\n",
    "    'Longitude': []\n",
    "}"
   ]
  },
  {
   "cell_type": "code",
   "execution_count": null,
   "id": "8675d9b2-d905-4bdf-97f7-e56a1c6906d7",
   "metadata": {},
   "outputs": [],
   "source": [
    "address = read_file('address.txt')\n",
    "\n",
    "for a in address:\n",
    "    try:\n",
    "        driver = webdriver.Chrome(service=ChromeService(ChromeDriverManager().install()), options=handlePopups())\n",
    "        driver.maximize_window()\n",
    "        driver.get(gg_map)\n",
    "        driver.find_element(By.XPATH, '//*[@id=\"searchboxinput\"]').send_keys(a)\n",
    "        driver.find_element(By.XPATH, '//*[@id=\"searchboxinput\"]').send_keys(Keys.ENTER)\n",
    "    except:\n",
    "        print(-1)\n",
    "        continue\n",
    "    sleep(7)\n",
    "    try:\n",
    "        data['Address'].append(address)\n",
    "        lat, long = get_lat_long(driver.current_url)\n",
    "        data['Latitude'].append(lat)\n",
    "        data['Longitude'].append(long)\n",
    "    except:\n",
    "        print(address)\n",
    "    address = read_file('address.txt')"
   ]
  },
  {
   "cell_type": "code",
   "execution_count": 12,
   "id": "9ea88b2a-71b0-42e0-9c4e-63f69d6ca1bd",
   "metadata": {},
   "outputs": [],
   "source": [
    "import pandas as pd\n",
    "df = pd.read_csv('data (1).csv', index_col=0)\n",
    "df.drop(columns=['Address'], inplace = True)\n",
    "df.to_excel('data2.xlsx')\n"
   ]
  },
  {
   "cell_type": "code",
   "execution_count": 7,
   "id": "1f458e79-b2ef-44b8-8cb9-e14854a377c3",
   "metadata": {},
   "outputs": [],
   "source": []
  },
  {
   "cell_type": "code",
   "execution_count": null,
   "id": "5b28ca27-0e5c-47c3-9b3b-f39b0d85b1d7",
   "metadata": {},
   "outputs": [],
   "source": []
  }
 ],
 "metadata": {
  "kernelspec": {
   "display_name": "Python 3 (ipykernel)",
   "language": "python",
   "name": "python3"
  },
  "language_info": {
   "codemirror_mode": {
    "name": "ipython",
    "version": 3
   },
   "file_extension": ".py",
   "mimetype": "text/x-python",
   "name": "python",
   "nbconvert_exporter": "python",
   "pygments_lexer": "ipython3",
   "version": "3.9.12"
  }
 },
 "nbformat": 4,
 "nbformat_minor": 5
}
