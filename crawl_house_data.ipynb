{
 "cells": [
  {
   "cell_type": "code",
   "execution_count": 35,
   "id": "b5f76e8b-9564-4180-bce1-f0921cc31ce7",
   "metadata": {},
   "outputs": [],
   "source": [
    "from bs4 import BeautifulSoup as bs\n",
    "import pandas as pd\n",
    "from time import sleep\n",
    "from webdriver_manager.chrome import ChromeDriverManager\n",
    "from selenium import webdriver\n",
    "from selenium.webdriver.common.by import By\n",
    "from selenium.webdriver.common.keys import Keys\n",
    "import requests as req\n",
    "from selenium.webdriver.chrome.service import Service as ChromeService\n",
    "from selenium.webdriver.chrome.options import Options\n",
    "\n",
    "def handlePopups():\n",
    "    option = Options()\n",
    "    option.add_argument(\"disable-notifications\")\n",
    "    # option.add_argument(\"headless\")\n",
    "    return option\n"
   ]
  },
  {
   "cell_type": "code",
   "execution_count": 75,
   "id": "cefb89df-1e60-42ec-bfa6-2d2da91d2022",
   "metadata": {},
   "outputs": [],
   "source": [
    "def get_address(soup):\n",
    "    return \",\".join([t.text for t in soup.find(class_ = 'address').find_all('span')[1:]])\n",
    "def get_area(cls):\n",
    "    return cls.find_all('span')[1].text\n",
    "def get_price(cls):\n",
    "    return cls.find_all('span')[1].text\n",
    "def insert_area_price_to_data(data: dict, soup):\n",
    "    cls1, cls2 = soup.find_all(class_ = 'short-item')\n",
    "    data['Area'].append(get_area(cls2))\n",
    "    data['Price'].append(get_price(cls1))\n",
    "def insert_to_data(data, url, bedroom: int):\n",
    "    try:\n",
    "        soup = bs(req.get(url).content, 'lxml')\n",
    "        data['Address'].append(get_address(soup))\n",
    "        insert_area_price_to_data(data, soup)\n",
    "        data['Bedroom'].append(bedroom)\n",
    "    except Exception as e:\n",
    "        global error_urls\n",
    "        error_urls.append(url)\n",
    "    \n",
    "def toExcel(data, path = 'data.xlsx'):\n",
    "    pd.DataFrame(data).to_excel(path)\n",
    "def read_file(path_to_file):\n",
    "    f = open(path_to_file)\n",
    "    urls = list(map(lambda x:x.strip(), f.readlines()))\n",
    "    f.close()\n",
    "    return urls\n",
    "main_url = 'https://www.nhatot.com'"
   ]
  },
  {
   "cell_type": "code",
   "execution_count": 101,
   "id": "cc9f15f9-1d5f-4da2-96b5-4cf4ef372c19",
   "metadata": {},
   "outputs": [],
   "source": [
    "urls = read_file('urls.txt')\n",
    "error_urls = []"
   ]
  },
  {
   "cell_type": "code",
   "execution_count": null,
   "id": "63105340-7f08-4035-b405-3232526346a9",
   "metadata": {
    "tags": []
   },
   "outputs": [],
   "source": [
    "for url in urls:\n",
    "    try:\n",
    "        driver = webdriver.Chrome(service=ChromeService(ChromeDriverManager().install()), options=handlePopups())\n",
    "        driver.maximize_window()\n",
    "        driver.get(url)\n",
    "        soup = bs(driver.page_source, 'lxml')\n",
    "        address = soup.find(class_ = 'fz13').text.replace('Xem bản đồ', \"\").strip()\n",
    "        f = open('address.txt', 'a', encoding='utf-8')\n",
    "        f.writelines(address + '\\n')\n",
    "        f.close()\n",
    "    except:\n",
    "        error_urls.append(urls)\n",
    "        print('error url lenght:', len(error_urls))"
   ]
  },
  {
   "cell_type": "code",
   "execution_count": 112,
   "id": "2e381146-a86e-4487-8e36-b63ef79702fc",
   "metadata": {},
   "outputs": [
    {
     "data": {
      "text/plain": [
       "'Chu Văn An, Phường 12, Quận Bình Thạnh, Tp Hồ Chí Minh'"
      ]
     },
     "execution_count": 112,
     "metadata": {},
     "output_type": "execute_result"
    }
   ],
   "source": [
    "soup = bs(driver.page_source, 'lxml')\n",
    "address = soup.find(class_ = 'fz13').text\n",
    "address = address\n",
    "address"
   ]
  }
 ],
 "metadata": {
  "kernelspec": {
   "display_name": "Python 3 (ipykernel)",
   "language": "python",
   "name": "python3"
  },
  "language_info": {
   "codemirror_mode": {
    "name": "ipython",
    "version": 3
   },
   "file_extension": ".py",
   "mimetype": "text/x-python",
   "name": "python",
   "nbconvert_exporter": "python",
   "pygments_lexer": "ipython3",
   "version": "3.9.12"
  }
 },
 "nbformat": 4,
 "nbformat_minor": 5
}
